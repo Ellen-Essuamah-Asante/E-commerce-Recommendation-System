{
 "cells": [
  {
   "cell_type": "code",
   "execution_count": 1,
   "id": "66505f5e",
   "metadata": {},
   "outputs": [],
   "source": [
    "# Import necessary libraries\n",
    "import pandas as pd\n",
    "import numpy as np\n",
    "from sklearn.feature_extraction.text import TfidfVectorizer\n",
    "from sklearn.metrics.pairwise import cosine_similarity"
   ]
  },
  {
   "cell_type": "code",
   "execution_count": 2,
   "id": "39d65f23",
   "metadata": {},
   "outputs": [
    {
     "name": "stdout",
     "output_type": "stream",
     "text": [
      "                 timestamp  visitorid event  itemid  transactionid  hour\n",
      "0  2015-06-02 05:02:12.117     257597  view  355908            NaN     5\n",
      "1  2015-06-02 05:50:14.164     992329  view  248676            NaN     5\n",
      "2  2015-06-02 05:13:19.827     111016  view  318965            NaN     5\n",
      "3  2015-06-02 05:12:35.914     483717  view  253185            NaN     5\n",
      "4  2015-06-02 05:02:17.106     951259  view  367447            NaN     5\n",
      "   itemid  property  num_value\n",
      "0  395014       400      552.0\n",
      "1  395014       400   639502.0\n",
      "2  395014       400        NaN\n",
      "3  395014       400   424566.0\n",
      "4   59481       790    15360.0\n",
      "   categoryid  parentid\n",
      "0        1016     213.0\n",
      "1         809     169.0\n",
      "2         570       9.0\n",
      "3        1691     885.0\n",
      "4         536    1691.0\n"
     ]
    }
   ],
   "source": [
    "\n",
    "# File paths\n",
    "events_path = r\"C:\\Users\\mbs-p\\Desktop\\E-commerce-Recommendation-System\\Notebook\\events_clean.csv\"\n",
    "item_props_path = r\"C:\\Users\\mbs-p\\Desktop\\E-commerce-Recommendation-System\\Notebook\\item_properties_clean.csv\"\n",
    "category_path = r\"C:\\Users\\mbs-p\\Desktop\\E-commerce-Recommendation-System\\Raw Data\\category_tree.csv\"\n",
    "\n",
    "# Load CSVs\n",
    "events = pd.read_csv(events_path)\n",
    "item_props = pd.read_csv(item_props_path)\n",
    "category_tree = pd.read_csv(category_path)\n",
    "\n",
    "print(events.head())\n",
    "print(item_props.head())\n",
    "print(category_tree.head())\n"
   ]
  },
  {
   "cell_type": "code",
   "execution_count": 3,
   "id": "ce6d1b37",
   "metadata": {},
   "outputs": [
    {
     "name": "stdout",
     "output_type": "stream",
     "text": [
      "   visitorid  itemid  event_strength\n",
      "0          0   67045               1\n",
      "1          0  285930               1\n",
      "2          0  357564               1\n",
      "3          1   72028               1\n",
      "4          2  216305               2\n"
     ]
    }
   ],
   "source": [
    "# Assign weights to events (stronger signal for transactions)\n",
    "weights = {\"view\": 1, \"addtocart\": 3, \"transaction\": 5}\n",
    "events[\"event_strength\"] = events[\"event\"].map(weights)\n",
    "\n",
    "# Drop NA itemid or visitorid\n",
    "events = events.dropna(subset=[\"visitorid\", \"itemid\"])\n",
    "\n",
    "# Aggregate user-item interaction strength\n",
    "user_item_strength = (\n",
    "    events.groupby([\"visitorid\", \"itemid\"])[\"event_strength\"]\n",
    "    .sum()\n",
    "    .reset_index()\n",
    ")\n",
    "print(user_item_strength.head())\n"
   ]
  },
  {
   "cell_type": "code",
   "execution_count": 4,
   "id": "2b9a87ff",
   "metadata": {},
   "outputs": [
    {
     "name": "stdout",
     "output_type": "stream",
     "text": [
      "   itemid                                          num_value  parent_category\n",
      "0       0                                    3.168 1144008.0              NaN\n",
      "1       1  5760.0 5760.0 5760.0 5760.0 6120.0 5760.0 6240...              NaN\n",
      "2       2  192.0 145688.0 72.0 6000.0 1144008.0 41040.0 2...              NaN\n",
      "3       3                                             1560.0              NaN\n",
      "4       4                                               24.0              NaN\n"
     ]
    }
   ],
   "source": [
    "# Merge item_properties into item_features\n",
    "item_features = item_props.groupby(\"itemid\")[\"num_value\"] \\\n",
    "    .apply(lambda x: \" \".join(x.dropna().astype(str))) \\\n",
    "    .reset_index()\n",
    "\n",
    "# Prepare categories (convert to string for consistency)\n",
    "item_categories = category_tree.rename(columns={\"categoryid\": \"num_value\", \"parentid\": \"parent_category\"})\n",
    "item_categories[\"num_value\"] = item_categories[\"num_value\"].astype(str)\n",
    "\n",
    "# Merge (now dtypes match)\n",
    "item_features = item_features.merge(item_categories, on=\"num_value\", how=\"left\")\n",
    "\n",
    "print(item_features.head())\n",
    "\n"
   ]
  },
  {
   "cell_type": "code",
   "execution_count": 5,
   "id": "350d778b",
   "metadata": {},
   "outputs": [],
   "source": [
    "from sklearn.feature_extraction.text import TfidfVectorizer\n",
    "from sklearn.neighbors import NearestNeighbors\n",
    "\n",
    "# Vectorize item features\n",
    "tfidf = TfidfVectorizer()\n",
    "tfidf_matrix = tfidf.fit_transform(item_features[\"num_value\"].astype(str))\n",
    "\n",
    "# Use Nearest Neighbors instead of full cosine_similarity\n",
    "knn = NearestNeighbors(metric=\"cosine\", algorithm=\"brute\", n_neighbors=20, n_jobs=-1)\n",
    "knn.fit(tfidf_matrix)\n",
    "\n",
    "# Function to get top-k similar items\n",
    "def get_similar_items(item_idx, top_k=10):\n",
    "    distances, indices = knn.kneighbors(tfidf_matrix[item_idx], n_neighbors=top_k+1)\n",
    "    return list(zip(indices.flatten()[1:], distances.flatten()[1:]))  # skip self\n"
   ]
  },
  {
   "cell_type": "code",
   "execution_count": 6,
   "id": "6b156e1c",
   "metadata": {},
   "outputs": [
    {
     "name": "stdout",
     "output_type": "stream",
     "text": [
      "Sparse matrix shape: (1407580, 235061)\n",
      "Non-zero interactions: 2145179\n"
     ]
    }
   ],
   "source": [
    "from scipy.sparse import coo_matrix\n",
    "\n",
    "# Ensure no duplicates (aggregate first)\n",
    "user_item_strength = (\n",
    "    events.groupby([\"visitorid\", \"itemid\"])[\"event_strength\"]\n",
    "    .sum()\n",
    "    .reset_index()\n",
    ")\n",
    "\n",
    "# Map users and items to indices\n",
    "user_mapping = {u: i for i, u in enumerate(user_item_strength[\"visitorid\"].unique())}\n",
    "item_mapping = {i: j for j, i in enumerate(user_item_strength[\"itemid\"].unique())}\n",
    "\n",
    "# Convert ids to row/col indices\n",
    "rows = user_item_strength[\"visitorid\"].map(user_mapping)\n",
    "cols = user_item_strength[\"itemid\"].map(item_mapping)\n",
    "data = user_item_strength[\"event_strength\"]\n",
    "\n",
    "# Build sparse matrix (users × items)\n",
    "X = coo_matrix((data, (rows, cols)), \n",
    "               shape=(len(user_mapping), len(item_mapping)))\n",
    "\n",
    "print(\"Sparse matrix shape:\", X.shape)\n",
    "print(\"Non-zero interactions:\", X.nnz)\n"
   ]
  },
  {
   "cell_type": "code",
   "execution_count": 7,
   "id": "07652eb5",
   "metadata": {},
   "outputs": [
    {
     "name": "stdout",
     "output_type": "stream",
     "text": [
      "User factors shape: (1407580, 50)\n",
      "Item factors shape: (235061, 50)\n"
     ]
    }
   ],
   "source": [
    "from sklearn.decomposition import TruncatedSVD\n",
    "\n",
    "# Apply SVD directly on sparse matrix\n",
    "svd = TruncatedSVD(n_components=50, random_state=42)\n",
    "user_factors = svd.fit_transform(X)\n",
    "item_factors = svd.components_.T\n",
    "\n",
    "print(\"User factors shape:\", user_factors.shape)\n",
    "print(\"Item factors shape:\", item_factors.shape)\n"
   ]
  },
  {
   "cell_type": "code",
   "execution_count": 8,
   "id": "c98131c7",
   "metadata": {},
   "outputs": [],
   "source": [
    "from sklearn.neighbors import NearestNeighbors\n",
    "\n",
    "# Already trained\n",
    "knn = NearestNeighbors(metric=\"cosine\", algorithm=\"brute\", n_neighbors=50, n_jobs=-1)\n",
    "knn.fit(tfidf_matrix)\n",
    "\n",
    "def get_cb_scores(interacted_items_idx, n_items):\n",
    "    cb_scores = np.zeros(n_items)\n",
    "    for item_idx in interacted_items_idx:\n",
    "        distances, indices = knn.kneighbors(tfidf_matrix[item_idx], n_neighbors=50)\n",
    "        # Convert distances to similarity (1 - distance)\n",
    "        sims = 1 - distances.flatten()\n",
    "        for idx, sim in zip(indices.flatten(), sims):\n",
    "            cb_scores[idx] += sim\n",
    "    return cb_scores\n"
   ]
  },
  {
   "cell_type": "code",
   "execution_count": 9,
   "id": "5e6f958d",
   "metadata": {},
   "outputs": [],
   "source": [
    "def hybrid_recommend(user_id, top_n=10, alpha=0.5):\n",
    "    if user_id not in user_mapping:\n",
    "        return []  # cold-start user\n",
    "    \n",
    "    user_idx = user_mapping[user_id]\n",
    "\n",
    "    # --- CF part ---\n",
    "    cf_scores = np.dot(user_factors[user_idx], item_factors.T)\n",
    "\n",
    "    # --- CB part ---\n",
    "    user_row = X.getrow(user_idx).toarray().ravel()\n",
    "    interacted_items_idx = np.where(user_row > 0)[0]\n",
    "    if len(interacted_items_idx) > 0:\n",
    "        cb_scores = get_cb_scores(interacted_items_idx, item_factors.shape[0])\n",
    "    else:\n",
    "        cb_scores = np.zeros(item_factors.shape[0])\n",
    "\n",
    "    # --- Hybrid ---\n",
    "    hybrid_scores = alpha * cf_scores + (1 - alpha) * cb_scores\n",
    "\n",
    "    # Remove items already interacted with\n",
    "    hybrid_scores[interacted_items_idx] = -np.inf\n",
    "\n",
    "    # Top-N\n",
    "    recommended_idx = np.argsort(-hybrid_scores)[:top_n]\n",
    "    inv_item_mapping = {v: k for k, v in item_mapping.items()}\n",
    "    return [inv_item_mapping[i] for i in recommended_idx]\n"
   ]
  },
  {
   "cell_type": "code",
   "execution_count": 10,
   "id": "3271660e",
   "metadata": {},
   "outputs": [
    {
     "ename": "IndexError",
     "evalue": "index 284244 is out of bounds for axis 0 with size 235061",
     "output_type": "error",
     "traceback": [
      "\u001b[1;31m---------------------------------------------------------------------------\u001b[0m",
      "\u001b[1;31mIndexError\u001b[0m                                Traceback (most recent call last)",
      "Cell \u001b[1;32mIn[10], line 3\u001b[0m\n\u001b[0;32m      1\u001b[0m sample_users \u001b[38;5;241m=\u001b[39m \u001b[38;5;28mlist\u001b[39m(user_mapping\u001b[38;5;241m.\u001b[39mkeys())[:\u001b[38;5;241m5\u001b[39m]\n\u001b[0;32m      2\u001b[0m \u001b[38;5;28;01mfor\u001b[39;00m u \u001b[38;5;129;01min\u001b[39;00m sample_users:\n\u001b[1;32m----> 3\u001b[0m     \u001b[38;5;28mprint\u001b[39m(\u001b[38;5;124mf\u001b[39m\u001b[38;5;124m\"\u001b[39m\u001b[38;5;130;01m\\n\u001b[39;00m\u001b[38;5;124mUser \u001b[39m\u001b[38;5;132;01m{\u001b[39;00mu\u001b[38;5;132;01m}\u001b[39;00m\u001b[38;5;124m recommendations:\u001b[39m\u001b[38;5;124m\"\u001b[39m, hybrid_recommend(u, top_n\u001b[38;5;241m=\u001b[39m\u001b[38;5;241m5\u001b[39m, alpha\u001b[38;5;241m=\u001b[39m\u001b[38;5;241m0.7\u001b[39m))\n",
      "Cell \u001b[1;32mIn[9], line 14\u001b[0m, in \u001b[0;36mhybrid_recommend\u001b[1;34m(user_id, top_n, alpha)\u001b[0m\n\u001b[0;32m     12\u001b[0m interacted_items_idx \u001b[38;5;241m=\u001b[39m np\u001b[38;5;241m.\u001b[39mwhere(user_row \u001b[38;5;241m>\u001b[39m \u001b[38;5;241m0\u001b[39m)[\u001b[38;5;241m0\u001b[39m]\n\u001b[0;32m     13\u001b[0m \u001b[38;5;28;01mif\u001b[39;00m \u001b[38;5;28mlen\u001b[39m(interacted_items_idx) \u001b[38;5;241m>\u001b[39m \u001b[38;5;241m0\u001b[39m:\n\u001b[1;32m---> 14\u001b[0m     cb_scores \u001b[38;5;241m=\u001b[39m get_cb_scores(interacted_items_idx, item_factors\u001b[38;5;241m.\u001b[39mshape[\u001b[38;5;241m0\u001b[39m])\n\u001b[0;32m     15\u001b[0m \u001b[38;5;28;01melse\u001b[39;00m:\n\u001b[0;32m     16\u001b[0m     cb_scores \u001b[38;5;241m=\u001b[39m np\u001b[38;5;241m.\u001b[39mzeros(item_factors\u001b[38;5;241m.\u001b[39mshape[\u001b[38;5;241m0\u001b[39m])\n",
      "Cell \u001b[1;32mIn[8], line 14\u001b[0m, in \u001b[0;36mget_cb_scores\u001b[1;34m(interacted_items_idx, n_items)\u001b[0m\n\u001b[0;32m     12\u001b[0m     sims \u001b[38;5;241m=\u001b[39m \u001b[38;5;241m1\u001b[39m \u001b[38;5;241m-\u001b[39m distances\u001b[38;5;241m.\u001b[39mflatten()\n\u001b[0;32m     13\u001b[0m     \u001b[38;5;28;01mfor\u001b[39;00m idx, sim \u001b[38;5;129;01min\u001b[39;00m \u001b[38;5;28mzip\u001b[39m(indices\u001b[38;5;241m.\u001b[39mflatten(), sims):\n\u001b[1;32m---> 14\u001b[0m         cb_scores[idx] \u001b[38;5;241m+\u001b[39m\u001b[38;5;241m=\u001b[39m sim\n\u001b[0;32m     15\u001b[0m \u001b[38;5;28;01mreturn\u001b[39;00m cb_scores\n",
      "\u001b[1;31mIndexError\u001b[0m: index 284244 is out of bounds for axis 0 with size 235061"
     ]
    }
   ],
   "source": [
    "sample_users = list(user_mapping.keys())[:5]\n",
    "for u in sample_users:\n",
    "    print(f\"\\nUser {u} recommendations:\", hybrid_recommend(u, top_n=5, alpha=0.7))\n"
   ]
  },
  {
   "cell_type": "code",
   "execution_count": null,
   "id": "e7bd04e6",
   "metadata": {},
   "outputs": [],
   "source": []
  }
 ],
 "metadata": {
  "kernelspec": {
   "display_name": "base",
   "language": "python",
   "name": "python3"
  },
  "language_info": {
   "codemirror_mode": {
    "name": "ipython",
    "version": 3
   },
   "file_extension": ".py",
   "mimetype": "text/x-python",
   "name": "python",
   "nbconvert_exporter": "python",
   "pygments_lexer": "ipython3",
   "version": "3.12.7"
  }
 },
 "nbformat": 4,
 "nbformat_minor": 5
}
