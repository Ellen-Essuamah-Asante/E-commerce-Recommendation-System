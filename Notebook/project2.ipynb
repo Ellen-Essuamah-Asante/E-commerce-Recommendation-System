{
 "cells": [
  {
   "cell_type": "markdown",
   "id": "2402ca40",
   "metadata": {},
   "source": [
    "# Importing libraries"
   ]
  },
  {
   "cell_type": "code",
   "execution_count": 1,
   "id": "1c1ad071",
   "metadata": {},
   "outputs": [],
   "source": [
    "# import libraries\n",
    "import pandas as pd\n",
    "import warnings\n",
    "warnings.filterwarnings('ignore')"
   ]
  },
  {
   "cell_type": "markdown",
   "id": "418fbb1e",
   "metadata": {},
   "source": [
    "# Reading Files"
   ]
  },
  {
   "cell_type": "code",
   "execution_count": 6,
   "id": "beef7a42",
   "metadata": {},
   "outputs": [],
   "source": [
    "# reading files\n",
    "\n",
    "events = pd.read_csv('events.csv')\n",
    "item_properties = pd.read_csv('item_properties_part1.1.csv')\n",
    "category_tree = pd.read_csv('category_tree.csv')"
   ]
  },
  {
   "cell_type": "code",
   "execution_count": 7,
   "id": "c66b8ecb",
   "metadata": {},
   "outputs": [
    {
     "name": "stdout",
     "output_type": "stream",
     "text": [
      "Events Data:\n",
      "       timestamp  visitorid event  itemid  transactionid\n",
      "0  1433221332117     257597  view  355908            NaN\n",
      "1  1433224214164     992329  view  248676            NaN\n",
      "2  1433221999827     111016  view  318965            NaN\n",
      "3  1433221955914     483717  view  253185            NaN\n",
      "4  1433221337106     951259  view  367447            NaN \n",
      "\n",
      "Item Properties Data:\n",
      "       timestamp  itemid    property                            value\n",
      "0  1435460400000  460429  categoryid                             1338\n",
      "1  1441508400000  206783         888          1116713 960601 n277.200\n",
      "2  1439089200000  395014         400  n552.000 639502 n720.000 424566\n",
      "3  1431226800000   59481         790                       n15360.000\n",
      "4  1431831600000  156781         917                           828513 \n",
      "\n",
      "Category Tree:\n",
      "   categoryid  parentid\n",
      "0        1016     213.0\n",
      "1         809     169.0\n",
      "2         570       9.0\n",
      "3        1691     885.0\n",
      "4         536    1691.0\n"
     ]
    }
   ],
   "source": [
    "# Preview first few rows\n",
    "print(\"Events Data:\")\n",
    "print(events.head(), \"\\n\")\n",
    "\n",
    "print(\"Item Properties Data:\")\n",
    "print(item_properties.head(), \"\\n\")\n",
    "\n",
    "print(\"Category Tree:\")\n",
    "print(category_tree.head())"
   ]
  },
  {
   "cell_type": "code",
   "execution_count": 8,
   "id": "07d7e180",
   "metadata": {},
   "outputs": [
    {
     "name": "stdout",
     "output_type": "stream",
     "text": [
      "<class 'pandas.core.frame.DataFrame'>\n",
      "RangeIndex: 2756101 entries, 0 to 2756100\n",
      "Data columns (total 5 columns):\n",
      " #   Column         Dtype         \n",
      "---  ------         -----         \n",
      " 0   timestamp      datetime64[ns]\n",
      " 1   visitorid      int64         \n",
      " 2   event          object        \n",
      " 3   itemid         int64         \n",
      " 4   transactionid  float64       \n",
      "dtypes: datetime64[ns](1), float64(1), int64(2), object(1)\n",
      "memory usage: 105.1+ MB\n",
      "None\n",
      "<class 'pandas.core.frame.DataFrame'>\n",
      "RangeIndex: 10999999 entries, 0 to 10999998\n",
      "Data columns (total 4 columns):\n",
      " #   Column     Dtype         \n",
      "---  ------     -----         \n",
      " 0   timestamp  datetime64[ns]\n",
      " 1   itemid     int64         \n",
      " 2   property   object        \n",
      " 3   value      object        \n",
      "dtypes: datetime64[ns](1), int64(1), object(2)\n",
      "memory usage: 335.7+ MB\n",
      "None\n",
      "<class 'pandas.core.frame.DataFrame'>\n",
      "RangeIndex: 1669 entries, 0 to 1668\n",
      "Data columns (total 2 columns):\n",
      " #   Column      Non-Null Count  Dtype  \n",
      "---  ------      --------------  -----  \n",
      " 0   categoryid  1669 non-null   int64  \n",
      " 1   parentid    1644 non-null   float64\n",
      "dtypes: float64(1), int64(1)\n",
      "memory usage: 26.2 KB\n",
      "None\n"
     ]
    }
   ],
   "source": [
    "# Convert timestamps from UNIX to datetime\n",
    "events['timestamp'] = pd.to_datetime(events['timestamp'], unit='ms')\n",
    "item_properties['timestamp'] = pd.to_datetime(item_properties['timestamp'], unit='ms')\n",
    "\n",
    "# Check types and nulls\n",
    "print(events.info())\n",
    "print(item_properties.info())\n",
    "print(category_tree.info())\n"
   ]
  },
  {
   "cell_type": "code",
   "execution_count": 10,
   "id": "baed3a92",
   "metadata": {},
   "outputs": [
    {
     "name": "stdout",
     "output_type": "stream",
     "text": [
      "\n",
      "Missing Values in events:\n",
      "                Missing Count  Missing %\n",
      "timestamp                  0       0.00\n",
      "visitorid                  0       0.00\n",
      "event                      0       0.00\n",
      "itemid                     0       0.00\n",
      "transactionid        2733644      99.19\n",
      "\n",
      "Missing Values in item_properties:\n",
      "            Missing Count  Missing %\n",
      "timestamp              0        0.0\n",
      "itemid                 0        0.0\n",
      "property               0        0.0\n",
      "value                  0        0.0\n"
     ]
    }
   ],
   "source": [
    "# Function to print missing value count and percentage\n",
    "def missing_info(df, name):\n",
    "    total = df.isnull().sum()\n",
    "    percent = (total / len(df)) * 100\n",
    "    missing_df = pd.DataFrame({\n",
    "        'Missing Count': total,\n",
    "        'Missing %': percent.round(2)\n",
    "    })\n",
    "    print(f\"\\nMissing Values in {name}:\\n\", missing_df)\n",
    "\n",
    "# Apply to both datasets\n",
    "missing_info(events, \"events\")\n",
    "missing_info(item_properties, \"item_properties\")\n"
   ]
  },
  {
   "cell_type": "markdown",
   "id": "55bee519",
   "metadata": {},
   "source": [
    "#### From the above code, we have missing values in the events file and the percentage is 99%. the ideal next action would have been to drop it but we would rather keep it since the transaction ide is only associated to purchasing event such as 'add to cart'. \n",
    "#### Hence will be useful in our analysis."
   ]
  },
  {
   "cell_type": "markdown",
   "id": "b3beee15",
   "metadata": {},
   "source": [
    "# Understanding User Behaviour Paths"
   ]
  },
  {
   "cell_type": "code",
   "execution_count": 11,
   "id": "c8538f30",
   "metadata": {},
   "outputs": [],
   "source": [
    "# sorting events by user and time\n",
    "events_sorted = events.sort_values(by=['visitorid', 'timestamp'])\n"
   ]
  },
  {
   "cell_type": "code",
   "execution_count": 13,
   "id": "4d193d52",
   "metadata": {},
   "outputs": [
    {
     "name": "stdout",
     "output_type": "stream",
     "text": [
      "                      timestamp  visitorid event  itemid  transactionid\n",
      "1361687 2015-09-11 20:49:49.439          0  view  285930            NaN\n",
      "1367212 2015-09-11 20:52:39.591          0  view  357564            NaN\n",
      "1367342 2015-09-11 20:55:17.175          0  view   67045            NaN\n"
     ]
    }
   ],
   "source": [
    "sample_user = events_sorted[events_sorted['visitorid'] == events_sorted['visitorid'].iloc[0]]\n",
    "print(sample_user)\n"
   ]
  },
  {
   "cell_type": "markdown",
   "id": "9668bd83",
   "metadata": {},
   "source": [
    "The output shows you a chronological sequence of item views for a single user (visitorid == 0).\n",
    "This tells us:\n",
    "The user viewed three different items in a span of 6 minutes.\n",
    "\n",
    "No add-to-cart or transaction occurred during this time.\n",
    "\n",
    "It may represent a single session where the user browsed but didn't convert into a purchase.\n",
    "\n",
    "To Predict properties of items added to cart, we need to:\n",
    "\n",
    "Identify sequences where a user views items and then adds to cart\n",
    "\n",
    "Use the viewed items to predict what they added\n",
    "\n",
    "(Optional) Aggregate multiple such instances across users to build a model"
   ]
  },
  {
   "cell_type": "markdown",
   "id": "8940b7f2",
   "metadata": {},
   "source": []
  }
 ],
 "metadata": {
  "kernelspec": {
   "display_name": "base",
   "language": "python",
   "name": "python3"
  },
  "language_info": {
   "codemirror_mode": {
    "name": "ipython",
    "version": 3
   },
   "file_extension": ".py",
   "mimetype": "text/x-python",
   "name": "python",
   "nbconvert_exporter": "python",
   "pygments_lexer": "ipython3",
   "version": "3.12.7"
  }
 },
 "nbformat": 4,
 "nbformat_minor": 5
}
